{
 "cells": [
  {
   "cell_type": "code",
   "execution_count": 1,
   "id": "ecf1f083",
   "metadata": {
    "_cell_guid": "b1076dfc-b9ad-4769-8c92-a6c4dae69d19",
    "_uuid": "8f2839f25d086af736a60e9eeb907d3b93b6e0e5",
    "execution": {
     "iopub.execute_input": "2023-06-12T17:43:35.411087Z",
     "iopub.status.busy": "2023-06-12T17:43:35.410219Z",
     "iopub.status.idle": "2023-06-12T17:43:35.426992Z",
     "shell.execute_reply": "2023-06-12T17:43:35.425947Z"
    },
    "papermill": {
     "duration": 0.033833,
     "end_time": "2023-06-12T17:43:35.429513",
     "exception": false,
     "start_time": "2023-06-12T17:43:35.395680",
     "status": "completed"
    },
    "tags": []
   },
   "outputs": [
    {
     "name": "stdout",
     "output_type": "stream",
     "text": [
      "/kaggle/input/playground-series-s3e16/sample_submission.csv\n",
      "/kaggle/input/playground-series-s3e16/train.csv\n",
      "/kaggle/input/playground-series-s3e16/test.csv\n"
     ]
    }
   ],
   "source": [
    "# This Python 3 environment comes with many helpful analytics libraries installed\n",
    "# It is defined by the kaggle/python Docker image: https://github.com/kaggle/docker-python\n",
    "# For example, here's several helpful packages to load\n",
    "\n",
    "import numpy as np # linear algebra\n",
    "import pandas as pd # data processing, CSV file I/O (e.g. pd.read_csv)\n",
    "\n",
    "# Input data files are available in the read-only \"../input/\" directory\n",
    "# For example, running this (by clicking run or pressing Shift+Enter) will list all files under the input directory\n",
    "\n",
    "import os\n",
    "for dirname, _, filenames in os.walk('/kaggle/input'):\n",
    "    for filename in filenames:\n",
    "        print(os.path.join(dirname, filename))\n",
    "\n",
    "# You can write up to 20GB to the current directory (/kaggle/working/) that gets preserved as output when you create a version using \"Save & Run All\" \n",
    "# You can also write temporary files to /kaggle/temp/, but they won't be saved outside of the current session"
   ]
  },
  {
   "cell_type": "code",
   "execution_count": 2,
   "id": "c843b5fa",
   "metadata": {
    "execution": {
     "iopub.execute_input": "2023-06-12T17:43:35.452923Z",
     "iopub.status.busy": "2023-06-12T17:43:35.452267Z",
     "iopub.status.idle": "2023-06-12T17:43:36.823235Z",
     "shell.execute_reply": "2023-06-12T17:43:36.822107Z"
    },
    "papermill": {
     "duration": 1.385786,
     "end_time": "2023-06-12T17:43:36.826013",
     "exception": false,
     "start_time": "2023-06-12T17:43:35.440227",
     "status": "completed"
    },
    "tags": []
   },
   "outputs": [],
   "source": [
    "import numpy as np\n",
    "import pandas as pd\n",
    "import matplotlib.pyplot as plt\n",
    "import seaborn as sns"
   ]
  },
  {
   "cell_type": "code",
   "execution_count": 3,
   "id": "b3f6e428",
   "metadata": {
    "execution": {
     "iopub.execute_input": "2023-06-12T17:43:36.849100Z",
     "iopub.status.busy": "2023-06-12T17:43:36.848655Z",
     "iopub.status.idle": "2023-06-12T17:43:37.037052Z",
     "shell.execute_reply": "2023-06-12T17:43:37.036181Z"
    },
    "papermill": {
     "duration": 0.202818,
     "end_time": "2023-06-12T17:43:37.039561",
     "exception": false,
     "start_time": "2023-06-12T17:43:36.836743",
     "status": "completed"
    },
    "tags": []
   },
   "outputs": [],
   "source": [
    "df = pd.read_csv(r'/kaggle/input/playground-series-s3e16/train.csv')"
   ]
  },
  {
   "cell_type": "code",
   "execution_count": 4,
   "id": "1352e00a",
   "metadata": {
    "execution": {
     "iopub.execute_input": "2023-06-12T17:43:37.062822Z",
     "iopub.status.busy": "2023-06-12T17:43:37.062151Z",
     "iopub.status.idle": "2023-06-12T17:43:37.097648Z",
     "shell.execute_reply": "2023-06-12T17:43:37.096598Z"
    },
    "papermill": {
     "duration": 0.049992,
     "end_time": "2023-06-12T17:43:37.100295",
     "exception": false,
     "start_time": "2023-06-12T17:43:37.050303",
     "status": "completed"
    },
    "tags": []
   },
   "outputs": [
    {
     "data": {
      "text/html": [
       "<div>\n",
       "<style scoped>\n",
       "    .dataframe tbody tr th:only-of-type {\n",
       "        vertical-align: middle;\n",
       "    }\n",
       "\n",
       "    .dataframe tbody tr th {\n",
       "        vertical-align: top;\n",
       "    }\n",
       "\n",
       "    .dataframe thead th {\n",
       "        text-align: right;\n",
       "    }\n",
       "</style>\n",
       "<table border=\"1\" class=\"dataframe\">\n",
       "  <thead>\n",
       "    <tr style=\"text-align: right;\">\n",
       "      <th></th>\n",
       "      <th>id</th>\n",
       "      <th>Sex</th>\n",
       "      <th>Length</th>\n",
       "      <th>Diameter</th>\n",
       "      <th>Height</th>\n",
       "      <th>Weight</th>\n",
       "      <th>Shucked Weight</th>\n",
       "      <th>Viscera Weight</th>\n",
       "      <th>Shell Weight</th>\n",
       "      <th>Age</th>\n",
       "    </tr>\n",
       "  </thead>\n",
       "  <tbody>\n",
       "    <tr>\n",
       "      <th>0</th>\n",
       "      <td>0</td>\n",
       "      <td>I</td>\n",
       "      <td>1.5250</td>\n",
       "      <td>1.1750</td>\n",
       "      <td>0.3750</td>\n",
       "      <td>28.973189</td>\n",
       "      <td>12.728926</td>\n",
       "      <td>6.647958</td>\n",
       "      <td>8.348928</td>\n",
       "      <td>9</td>\n",
       "    </tr>\n",
       "    <tr>\n",
       "      <th>1</th>\n",
       "      <td>1</td>\n",
       "      <td>I</td>\n",
       "      <td>1.1000</td>\n",
       "      <td>0.8250</td>\n",
       "      <td>0.2750</td>\n",
       "      <td>10.418441</td>\n",
       "      <td>4.521745</td>\n",
       "      <td>2.324659</td>\n",
       "      <td>3.401940</td>\n",
       "      <td>8</td>\n",
       "    </tr>\n",
       "    <tr>\n",
       "      <th>2</th>\n",
       "      <td>2</td>\n",
       "      <td>M</td>\n",
       "      <td>1.3875</td>\n",
       "      <td>1.1125</td>\n",
       "      <td>0.3750</td>\n",
       "      <td>24.777463</td>\n",
       "      <td>11.339800</td>\n",
       "      <td>5.556502</td>\n",
       "      <td>6.662133</td>\n",
       "      <td>9</td>\n",
       "    </tr>\n",
       "    <tr>\n",
       "      <th>3</th>\n",
       "      <td>3</td>\n",
       "      <td>F</td>\n",
       "      <td>1.7000</td>\n",
       "      <td>1.4125</td>\n",
       "      <td>0.5000</td>\n",
       "      <td>50.660556</td>\n",
       "      <td>20.354941</td>\n",
       "      <td>10.991839</td>\n",
       "      <td>14.996885</td>\n",
       "      <td>11</td>\n",
       "    </tr>\n",
       "    <tr>\n",
       "      <th>4</th>\n",
       "      <td>4</td>\n",
       "      <td>I</td>\n",
       "      <td>1.2500</td>\n",
       "      <td>1.0125</td>\n",
       "      <td>0.3375</td>\n",
       "      <td>23.289114</td>\n",
       "      <td>11.977664</td>\n",
       "      <td>4.507570</td>\n",
       "      <td>5.953395</td>\n",
       "      <td>8</td>\n",
       "    </tr>\n",
       "  </tbody>\n",
       "</table>\n",
       "</div>"
      ],
      "text/plain": [
       "   id Sex  Length  Diameter  Height     Weight  Shucked Weight  \\\n",
       "0   0   I  1.5250    1.1750  0.3750  28.973189       12.728926   \n",
       "1   1   I  1.1000    0.8250  0.2750  10.418441        4.521745   \n",
       "2   2   M  1.3875    1.1125  0.3750  24.777463       11.339800   \n",
       "3   3   F  1.7000    1.4125  0.5000  50.660556       20.354941   \n",
       "4   4   I  1.2500    1.0125  0.3375  23.289114       11.977664   \n",
       "\n",
       "   Viscera Weight  Shell Weight  Age  \n",
       "0        6.647958      8.348928    9  \n",
       "1        2.324659      3.401940    8  \n",
       "2        5.556502      6.662133    9  \n",
       "3       10.991839     14.996885   11  \n",
       "4        4.507570      5.953395    8  "
      ]
     },
     "execution_count": 4,
     "metadata": {},
     "output_type": "execute_result"
    }
   ],
   "source": [
    "df.head()"
   ]
  },
  {
   "cell_type": "code",
   "execution_count": 5,
   "id": "cedeb2b7",
   "metadata": {
    "execution": {
     "iopub.execute_input": "2023-06-12T17:43:37.123829Z",
     "iopub.status.busy": "2023-06-12T17:43:37.123423Z",
     "iopub.status.idle": "2023-06-12T17:43:37.136490Z",
     "shell.execute_reply": "2023-06-12T17:43:37.135471Z"
    },
    "papermill": {
     "duration": 0.027575,
     "end_time": "2023-06-12T17:43:37.138937",
     "exception": false,
     "start_time": "2023-06-12T17:43:37.111362",
     "status": "completed"
    },
    "tags": []
   },
   "outputs": [],
   "source": [
    "df = df.drop('id', axis = 1)"
   ]
  },
  {
   "cell_type": "code",
   "execution_count": 6,
   "id": "452e4a89",
   "metadata": {
    "execution": {
     "iopub.execute_input": "2023-06-12T17:43:37.162949Z",
     "iopub.status.busy": "2023-06-12T17:43:37.161898Z",
     "iopub.status.idle": "2023-06-12T17:43:37.189039Z",
     "shell.execute_reply": "2023-06-12T17:43:37.187939Z"
    },
    "papermill": {
     "duration": 0.042045,
     "end_time": "2023-06-12T17:43:37.191880",
     "exception": false,
     "start_time": "2023-06-12T17:43:37.149835",
     "status": "completed"
    },
    "tags": []
   },
   "outputs": [],
   "source": [
    "df = pd.get_dummies(df , drop_first = True)"
   ]
  },
  {
   "cell_type": "code",
   "execution_count": 7,
   "id": "6957c2f4",
   "metadata": {
    "execution": {
     "iopub.execute_input": "2023-06-12T17:43:37.216189Z",
     "iopub.status.busy": "2023-06-12T17:43:37.215798Z",
     "iopub.status.idle": "2023-06-12T17:43:37.232711Z",
     "shell.execute_reply": "2023-06-12T17:43:37.231621Z"
    },
    "papermill": {
     "duration": 0.032227,
     "end_time": "2023-06-12T17:43:37.235314",
     "exception": false,
     "start_time": "2023-06-12T17:43:37.203087",
     "status": "completed"
    },
    "tags": []
   },
   "outputs": [
    {
     "data": {
      "text/html": [
       "<div>\n",
       "<style scoped>\n",
       "    .dataframe tbody tr th:only-of-type {\n",
       "        vertical-align: middle;\n",
       "    }\n",
       "\n",
       "    .dataframe tbody tr th {\n",
       "        vertical-align: top;\n",
       "    }\n",
       "\n",
       "    .dataframe thead th {\n",
       "        text-align: right;\n",
       "    }\n",
       "</style>\n",
       "<table border=\"1\" class=\"dataframe\">\n",
       "  <thead>\n",
       "    <tr style=\"text-align: right;\">\n",
       "      <th></th>\n",
       "      <th>Length</th>\n",
       "      <th>Diameter</th>\n",
       "      <th>Height</th>\n",
       "      <th>Weight</th>\n",
       "      <th>Shucked Weight</th>\n",
       "      <th>Viscera Weight</th>\n",
       "      <th>Shell Weight</th>\n",
       "      <th>Age</th>\n",
       "      <th>Sex_I</th>\n",
       "      <th>Sex_M</th>\n",
       "    </tr>\n",
       "  </thead>\n",
       "  <tbody>\n",
       "    <tr>\n",
       "      <th>0</th>\n",
       "      <td>1.5250</td>\n",
       "      <td>1.1750</td>\n",
       "      <td>0.3750</td>\n",
       "      <td>28.973189</td>\n",
       "      <td>12.728926</td>\n",
       "      <td>6.647958</td>\n",
       "      <td>8.348928</td>\n",
       "      <td>9</td>\n",
       "      <td>1</td>\n",
       "      <td>0</td>\n",
       "    </tr>\n",
       "    <tr>\n",
       "      <th>1</th>\n",
       "      <td>1.1000</td>\n",
       "      <td>0.8250</td>\n",
       "      <td>0.2750</td>\n",
       "      <td>10.418441</td>\n",
       "      <td>4.521745</td>\n",
       "      <td>2.324659</td>\n",
       "      <td>3.401940</td>\n",
       "      <td>8</td>\n",
       "      <td>1</td>\n",
       "      <td>0</td>\n",
       "    </tr>\n",
       "    <tr>\n",
       "      <th>2</th>\n",
       "      <td>1.3875</td>\n",
       "      <td>1.1125</td>\n",
       "      <td>0.3750</td>\n",
       "      <td>24.777463</td>\n",
       "      <td>11.339800</td>\n",
       "      <td>5.556502</td>\n",
       "      <td>6.662133</td>\n",
       "      <td>9</td>\n",
       "      <td>0</td>\n",
       "      <td>1</td>\n",
       "    </tr>\n",
       "    <tr>\n",
       "      <th>3</th>\n",
       "      <td>1.7000</td>\n",
       "      <td>1.4125</td>\n",
       "      <td>0.5000</td>\n",
       "      <td>50.660556</td>\n",
       "      <td>20.354941</td>\n",
       "      <td>10.991839</td>\n",
       "      <td>14.996885</td>\n",
       "      <td>11</td>\n",
       "      <td>0</td>\n",
       "      <td>0</td>\n",
       "    </tr>\n",
       "    <tr>\n",
       "      <th>4</th>\n",
       "      <td>1.2500</td>\n",
       "      <td>1.0125</td>\n",
       "      <td>0.3375</td>\n",
       "      <td>23.289114</td>\n",
       "      <td>11.977664</td>\n",
       "      <td>4.507570</td>\n",
       "      <td>5.953395</td>\n",
       "      <td>8</td>\n",
       "      <td>1</td>\n",
       "      <td>0</td>\n",
       "    </tr>\n",
       "  </tbody>\n",
       "</table>\n",
       "</div>"
      ],
      "text/plain": [
       "   Length  Diameter  Height     Weight  Shucked Weight  Viscera Weight  \\\n",
       "0  1.5250    1.1750  0.3750  28.973189       12.728926        6.647958   \n",
       "1  1.1000    0.8250  0.2750  10.418441        4.521745        2.324659   \n",
       "2  1.3875    1.1125  0.3750  24.777463       11.339800        5.556502   \n",
       "3  1.7000    1.4125  0.5000  50.660556       20.354941       10.991839   \n",
       "4  1.2500    1.0125  0.3375  23.289114       11.977664        4.507570   \n",
       "\n",
       "   Shell Weight  Age  Sex_I  Sex_M  \n",
       "0      8.348928    9      1      0  \n",
       "1      3.401940    8      1      0  \n",
       "2      6.662133    9      0      1  \n",
       "3     14.996885   11      0      0  \n",
       "4      5.953395    8      1      0  "
      ]
     },
     "execution_count": 7,
     "metadata": {},
     "output_type": "execute_result"
    }
   ],
   "source": [
    "df.head()"
   ]
  },
  {
   "cell_type": "code",
   "execution_count": 8,
   "id": "f6aab925",
   "metadata": {
    "execution": {
     "iopub.execute_input": "2023-06-12T17:43:37.259849Z",
     "iopub.status.busy": "2023-06-12T17:43:37.259444Z",
     "iopub.status.idle": "2023-06-12T17:43:37.695953Z",
     "shell.execute_reply": "2023-06-12T17:43:37.694889Z"
    },
    "papermill": {
     "duration": 0.452087,
     "end_time": "2023-06-12T17:43:37.698691",
     "exception": false,
     "start_time": "2023-06-12T17:43:37.246604",
     "status": "completed"
    },
    "tags": []
   },
   "outputs": [],
   "source": [
    "from sklearn.neighbors import KNeighborsRegressor"
   ]
  },
  {
   "cell_type": "code",
   "execution_count": 9,
   "id": "f48cc252",
   "metadata": {
    "execution": {
     "iopub.execute_input": "2023-06-12T17:43:37.723157Z",
     "iopub.status.busy": "2023-06-12T17:43:37.722785Z",
     "iopub.status.idle": "2023-06-12T17:43:37.727590Z",
     "shell.execute_reply": "2023-06-12T17:43:37.726579Z"
    },
    "papermill": {
     "duration": 0.019992,
     "end_time": "2023-06-12T17:43:37.730022",
     "exception": false,
     "start_time": "2023-06-12T17:43:37.710030",
     "status": "completed"
    },
    "tags": []
   },
   "outputs": [],
   "source": [
    "knr = KNeighborsRegressor()"
   ]
  },
  {
   "cell_type": "code",
   "execution_count": 10,
   "id": "ea7948a4",
   "metadata": {
    "execution": {
     "iopub.execute_input": "2023-06-12T17:43:37.754466Z",
     "iopub.status.busy": "2023-06-12T17:43:37.754096Z",
     "iopub.status.idle": "2023-06-12T17:43:37.758981Z",
     "shell.execute_reply": "2023-06-12T17:43:37.757888Z"
    },
    "papermill": {
     "duration": 0.019692,
     "end_time": "2023-06-12T17:43:37.761236",
     "exception": false,
     "start_time": "2023-06-12T17:43:37.741544",
     "status": "completed"
    },
    "tags": []
   },
   "outputs": [],
   "source": [
    "from sklearn.model_selection import train_test_split , GridSearchCV"
   ]
  },
  {
   "cell_type": "code",
   "execution_count": 11,
   "id": "4cfafb90",
   "metadata": {
    "execution": {
     "iopub.execute_input": "2023-06-12T17:43:37.786097Z",
     "iopub.status.busy": "2023-06-12T17:43:37.785725Z",
     "iopub.status.idle": "2023-06-12T17:43:37.792733Z",
     "shell.execute_reply": "2023-06-12T17:43:37.791714Z"
    },
    "papermill": {
     "duration": 0.021972,
     "end_time": "2023-06-12T17:43:37.794884",
     "exception": false,
     "start_time": "2023-06-12T17:43:37.772912",
     "status": "completed"
    },
    "tags": []
   },
   "outputs": [],
   "source": [
    "X = df.drop('Age' , axis = 1)"
   ]
  },
  {
   "cell_type": "code",
   "execution_count": 12,
   "id": "729f4ce5",
   "metadata": {
    "execution": {
     "iopub.execute_input": "2023-06-12T17:43:37.819090Z",
     "iopub.status.busy": "2023-06-12T17:43:37.818663Z",
     "iopub.status.idle": "2023-06-12T17:43:37.823803Z",
     "shell.execute_reply": "2023-06-12T17:43:37.822696Z"
    },
    "papermill": {
     "duration": 0.020221,
     "end_time": "2023-06-12T17:43:37.826112",
     "exception": false,
     "start_time": "2023-06-12T17:43:37.805891",
     "status": "completed"
    },
    "tags": []
   },
   "outputs": [],
   "source": [
    "y = df['Age']"
   ]
  },
  {
   "cell_type": "code",
   "execution_count": 13,
   "id": "3a005d04",
   "metadata": {
    "execution": {
     "iopub.execute_input": "2023-06-12T17:43:37.850178Z",
     "iopub.status.busy": "2023-06-12T17:43:37.849745Z",
     "iopub.status.idle": "2023-06-12T17:43:37.869487Z",
     "shell.execute_reply": "2023-06-12T17:43:37.868475Z"
    },
    "papermill": {
     "duration": 0.034724,
     "end_time": "2023-06-12T17:43:37.872040",
     "exception": false,
     "start_time": "2023-06-12T17:43:37.837316",
     "status": "completed"
    },
    "tags": []
   },
   "outputs": [],
   "source": [
    "X_train, X_test, y_train, y_test = train_test_split(X, y, test_size=0.33, random_state=42)"
   ]
  },
  {
   "cell_type": "code",
   "execution_count": 14,
   "id": "0c8aab38",
   "metadata": {
    "execution": {
     "iopub.execute_input": "2023-06-12T17:43:37.896960Z",
     "iopub.status.busy": "2023-06-12T17:43:37.896560Z",
     "iopub.status.idle": "2023-06-12T17:43:37.901051Z",
     "shell.execute_reply": "2023-06-12T17:43:37.900003Z"
    },
    "papermill": {
     "duration": 0.019647,
     "end_time": "2023-06-12T17:43:37.903385",
     "exception": false,
     "start_time": "2023-06-12T17:43:37.883738",
     "status": "completed"
    },
    "tags": []
   },
   "outputs": [],
   "source": [
    "from sklearn.preprocessing import StandardScaler"
   ]
  },
  {
   "cell_type": "code",
   "execution_count": 15,
   "id": "1b559c2e",
   "metadata": {
    "execution": {
     "iopub.execute_input": "2023-06-12T17:43:37.927586Z",
     "iopub.status.busy": "2023-06-12T17:43:37.927169Z",
     "iopub.status.idle": "2023-06-12T17:43:37.932432Z",
     "shell.execute_reply": "2023-06-12T17:43:37.931042Z"
    },
    "papermill": {
     "duration": 0.020066,
     "end_time": "2023-06-12T17:43:37.934625",
     "exception": false,
     "start_time": "2023-06-12T17:43:37.914559",
     "status": "completed"
    },
    "tags": []
   },
   "outputs": [],
   "source": [
    "scaler = StandardScaler()"
   ]
  },
  {
   "cell_type": "code",
   "execution_count": 16,
   "id": "9776a5dd",
   "metadata": {
    "execution": {
     "iopub.execute_input": "2023-06-12T17:43:37.958326Z",
     "iopub.status.busy": "2023-06-12T17:43:37.957941Z",
     "iopub.status.idle": "2023-06-12T17:43:37.976703Z",
     "shell.execute_reply": "2023-06-12T17:43:37.975623Z"
    },
    "papermill": {
     "duration": 0.033633,
     "end_time": "2023-06-12T17:43:37.979235",
     "exception": false,
     "start_time": "2023-06-12T17:43:37.945602",
     "status": "completed"
    },
    "tags": []
   },
   "outputs": [],
   "source": [
    "X_train = scaler.fit_transform(X_train)"
   ]
  },
  {
   "cell_type": "code",
   "execution_count": 17,
   "id": "9959e25d",
   "metadata": {
    "execution": {
     "iopub.execute_input": "2023-06-12T17:43:38.003493Z",
     "iopub.status.busy": "2023-06-12T17:43:38.003066Z",
     "iopub.status.idle": "2023-06-12T17:43:38.011119Z",
     "shell.execute_reply": "2023-06-12T17:43:38.010110Z"
    },
    "papermill": {
     "duration": 0.023061,
     "end_time": "2023-06-12T17:43:38.013344",
     "exception": false,
     "start_time": "2023-06-12T17:43:37.990283",
     "status": "completed"
    },
    "tags": []
   },
   "outputs": [],
   "source": [
    "X_test = scaler.transform(X_test)"
   ]
  },
  {
   "cell_type": "code",
   "execution_count": 18,
   "id": "56954fed",
   "metadata": {
    "execution": {
     "iopub.execute_input": "2023-06-12T17:43:38.038432Z",
     "iopub.status.busy": "2023-06-12T17:43:38.038033Z",
     "iopub.status.idle": "2023-06-12T17:43:38.042694Z",
     "shell.execute_reply": "2023-06-12T17:43:38.041826Z"
    },
    "papermill": {
     "duration": 0.019489,
     "end_time": "2023-06-12T17:43:38.044745",
     "exception": false,
     "start_time": "2023-06-12T17:43:38.025256",
     "status": "completed"
    },
    "tags": []
   },
   "outputs": [],
   "source": [
    "n_neighbors = np.arange(1,40)"
   ]
  },
  {
   "cell_type": "code",
   "execution_count": 19,
   "id": "f6c42f79",
   "metadata": {
    "execution": {
     "iopub.execute_input": "2023-06-12T17:43:38.068397Z",
     "iopub.status.busy": "2023-06-12T17:43:38.068018Z",
     "iopub.status.idle": "2023-06-12T17:43:38.072807Z",
     "shell.execute_reply": "2023-06-12T17:43:38.071585Z"
    },
    "papermill": {
     "duration": 0.019354,
     "end_time": "2023-06-12T17:43:38.075029",
     "exception": false,
     "start_time": "2023-06-12T17:43:38.055675",
     "status": "completed"
    },
    "tags": []
   },
   "outputs": [],
   "source": [
    "param_grid = {'n_neighbors' : n_neighbors}"
   ]
  },
  {
   "cell_type": "code",
   "execution_count": 20,
   "id": "f51bbd26",
   "metadata": {
    "execution": {
     "iopub.execute_input": "2023-06-12T17:43:38.099060Z",
     "iopub.status.busy": "2023-06-12T17:43:38.098442Z",
     "iopub.status.idle": "2023-06-12T17:43:38.104040Z",
     "shell.execute_reply": "2023-06-12T17:43:38.102907Z"
    },
    "papermill": {
     "duration": 0.020286,
     "end_time": "2023-06-12T17:43:38.106375",
     "exception": false,
     "start_time": "2023-06-12T17:43:38.086089",
     "status": "completed"
    },
    "tags": []
   },
   "outputs": [],
   "source": [
    "grid_model = GridSearchCV(knr , param_grid , verbose = 2)"
   ]
  },
  {
   "cell_type": "code",
   "execution_count": 21,
   "id": "a5b848f4",
   "metadata": {
    "execution": {
     "iopub.execute_input": "2023-06-12T17:43:38.130371Z",
     "iopub.status.busy": "2023-06-12T17:43:38.129978Z",
     "iopub.status.idle": "2023-06-12T17:46:16.699185Z",
     "shell.execute_reply": "2023-06-12T17:46:16.698024Z"
    },
    "papermill": {
     "duration": 158.584152,
     "end_time": "2023-06-12T17:46:16.701629",
     "exception": false,
     "start_time": "2023-06-12T17:43:38.117477",
     "status": "completed"
    },
    "tags": []
   },
   "outputs": [
    {
     "name": "stdout",
     "output_type": "stream",
     "text": [
      "Fitting 5 folds for each of 39 candidates, totalling 195 fits\n",
      "[CV] END ......................................n_neighbors=1; total time=   0.4s\n",
      "[CV] END ......................................n_neighbors=1; total time=   0.4s\n",
      "[CV] END ......................................n_neighbors=1; total time=   0.5s\n",
      "[CV] END ......................................n_neighbors=1; total time=   0.4s\n",
      "[CV] END ......................................n_neighbors=1; total time=   0.4s\n",
      "[CV] END ......................................n_neighbors=2; total time=   0.5s\n",
      "[CV] END ......................................n_neighbors=2; total time=   0.5s\n",
      "[CV] END ......................................n_neighbors=2; total time=   0.5s\n",
      "[CV] END ......................................n_neighbors=2; total time=   0.5s\n",
      "[CV] END ......................................n_neighbors=2; total time=   0.5s\n",
      "[CV] END ......................................n_neighbors=3; total time=   0.5s\n",
      "[CV] END ......................................n_neighbors=3; total time=   0.5s\n",
      "[CV] END ......................................n_neighbors=3; total time=   0.5s\n",
      "[CV] END ......................................n_neighbors=3; total time=   0.5s\n",
      "[CV] END ......................................n_neighbors=3; total time=   0.5s\n",
      "[CV] END ......................................n_neighbors=4; total time=   0.6s\n",
      "[CV] END ......................................n_neighbors=4; total time=   0.6s\n",
      "[CV] END ......................................n_neighbors=4; total time=   0.6s\n",
      "[CV] END ......................................n_neighbors=4; total time=   0.5s\n",
      "[CV] END ......................................n_neighbors=4; total time=   0.6s\n",
      "[CV] END ......................................n_neighbors=5; total time=   0.6s\n",
      "[CV] END ......................................n_neighbors=5; total time=   0.6s\n",
      "[CV] END ......................................n_neighbors=5; total time=   0.6s\n",
      "[CV] END ......................................n_neighbors=5; total time=   0.6s\n",
      "[CV] END ......................................n_neighbors=5; total time=   0.6s\n",
      "[CV] END ......................................n_neighbors=6; total time=   0.6s\n",
      "[CV] END ......................................n_neighbors=6; total time=   0.6s\n",
      "[CV] END ......................................n_neighbors=6; total time=   0.6s\n",
      "[CV] END ......................................n_neighbors=6; total time=   0.6s\n",
      "[CV] END ......................................n_neighbors=6; total time=   0.6s\n",
      "[CV] END ......................................n_neighbors=7; total time=   0.6s\n",
      "[CV] END ......................................n_neighbors=7; total time=   0.6s\n",
      "[CV] END ......................................n_neighbors=7; total time=   0.6s\n",
      "[CV] END ......................................n_neighbors=7; total time=   0.6s\n",
      "[CV] END ......................................n_neighbors=7; total time=   0.6s\n",
      "[CV] END ......................................n_neighbors=8; total time=   0.7s\n",
      "[CV] END ......................................n_neighbors=8; total time=   0.7s\n",
      "[CV] END ......................................n_neighbors=8; total time=   0.7s\n",
      "[CV] END ......................................n_neighbors=8; total time=   0.6s\n",
      "[CV] END ......................................n_neighbors=8; total time=   0.7s\n",
      "[CV] END ......................................n_neighbors=9; total time=   0.7s\n",
      "[CV] END ......................................n_neighbors=9; total time=   0.7s\n",
      "[CV] END ......................................n_neighbors=9; total time=   0.7s\n",
      "[CV] END ......................................n_neighbors=9; total time=   0.7s\n",
      "[CV] END ......................................n_neighbors=9; total time=   0.7s\n",
      "[CV] END .....................................n_neighbors=10; total time=   0.7s\n",
      "[CV] END .....................................n_neighbors=10; total time=   0.7s\n",
      "[CV] END .....................................n_neighbors=10; total time=   0.7s\n",
      "[CV] END .....................................n_neighbors=10; total time=   0.7s\n",
      "[CV] END .....................................n_neighbors=10; total time=   0.7s\n",
      "[CV] END .....................................n_neighbors=11; total time=   0.7s\n",
      "[CV] END .....................................n_neighbors=11; total time=   0.7s\n",
      "[CV] END .....................................n_neighbors=11; total time=   0.7s\n",
      "[CV] END .....................................n_neighbors=11; total time=   0.7s\n",
      "[CV] END .....................................n_neighbors=11; total time=   0.8s\n",
      "[CV] END .....................................n_neighbors=12; total time=   0.7s\n",
      "[CV] END .....................................n_neighbors=12; total time=   0.7s\n",
      "[CV] END .....................................n_neighbors=12; total time=   0.7s\n",
      "[CV] END .....................................n_neighbors=12; total time=   0.7s\n",
      "[CV] END .....................................n_neighbors=12; total time=   0.7s\n",
      "[CV] END .....................................n_neighbors=13; total time=   0.7s\n",
      "[CV] END .....................................n_neighbors=13; total time=   0.8s\n",
      "[CV] END .....................................n_neighbors=13; total time=   0.7s\n",
      "[CV] END .....................................n_neighbors=13; total time=   0.7s\n",
      "[CV] END .....................................n_neighbors=13; total time=   0.7s\n",
      "[CV] END .....................................n_neighbors=14; total time=   0.8s\n",
      "[CV] END .....................................n_neighbors=14; total time=   0.8s\n",
      "[CV] END .....................................n_neighbors=14; total time=   0.8s\n",
      "[CV] END .....................................n_neighbors=14; total time=   0.7s\n",
      "[CV] END .....................................n_neighbors=14; total time=   0.8s\n",
      "[CV] END .....................................n_neighbors=15; total time=   0.8s\n",
      "[CV] END .....................................n_neighbors=15; total time=   0.8s\n",
      "[CV] END .....................................n_neighbors=15; total time=   0.8s\n",
      "[CV] END .....................................n_neighbors=15; total time=   0.8s\n",
      "[CV] END .....................................n_neighbors=15; total time=   0.8s\n",
      "[CV] END .....................................n_neighbors=16; total time=   0.8s\n",
      "[CV] END .....................................n_neighbors=16; total time=   0.8s\n",
      "[CV] END .....................................n_neighbors=16; total time=   0.8s\n",
      "[CV] END .....................................n_neighbors=16; total time=   0.8s\n",
      "[CV] END .....................................n_neighbors=16; total time=   0.8s\n",
      "[CV] END .....................................n_neighbors=17; total time=   0.8s\n",
      "[CV] END .....................................n_neighbors=17; total time=   0.8s\n",
      "[CV] END .....................................n_neighbors=17; total time=   0.8s\n",
      "[CV] END .....................................n_neighbors=17; total time=   0.8s\n",
      "[CV] END .....................................n_neighbors=17; total time=   0.8s\n",
      "[CV] END .....................................n_neighbors=18; total time=   0.8s\n",
      "[CV] END .....................................n_neighbors=18; total time=   0.8s\n",
      "[CV] END .....................................n_neighbors=18; total time=   0.8s\n",
      "[CV] END .....................................n_neighbors=18; total time=   0.8s\n",
      "[CV] END .....................................n_neighbors=18; total time=   0.8s\n",
      "[CV] END .....................................n_neighbors=19; total time=   0.8s\n",
      "[CV] END .....................................n_neighbors=19; total time=   0.8s\n",
      "[CV] END .....................................n_neighbors=19; total time=   0.8s\n",
      "[CV] END .....................................n_neighbors=19; total time=   0.8s\n",
      "[CV] END .....................................n_neighbors=19; total time=   0.9s\n",
      "[CV] END .....................................n_neighbors=20; total time=   0.9s\n",
      "[CV] END .....................................n_neighbors=20; total time=   0.9s\n",
      "[CV] END .....................................n_neighbors=20; total time=   0.8s\n",
      "[CV] END .....................................n_neighbors=20; total time=   0.8s\n",
      "[CV] END .....................................n_neighbors=20; total time=   0.8s\n",
      "[CV] END .....................................n_neighbors=21; total time=   0.8s\n",
      "[CV] END .....................................n_neighbors=21; total time=   0.9s\n",
      "[CV] END .....................................n_neighbors=21; total time=   0.9s\n",
      "[CV] END .....................................n_neighbors=21; total time=   0.8s\n",
      "[CV] END .....................................n_neighbors=21; total time=   0.9s\n",
      "[CV] END .....................................n_neighbors=22; total time=   0.9s\n",
      "[CV] END .....................................n_neighbors=22; total time=   0.9s\n",
      "[CV] END .....................................n_neighbors=22; total time=   0.9s\n",
      "[CV] END .....................................n_neighbors=22; total time=   0.9s\n",
      "[CV] END .....................................n_neighbors=22; total time=   0.9s\n",
      "[CV] END .....................................n_neighbors=23; total time=   0.9s\n",
      "[CV] END .....................................n_neighbors=23; total time=   0.9s\n",
      "[CV] END .....................................n_neighbors=23; total time=   0.9s\n",
      "[CV] END .....................................n_neighbors=23; total time=   0.9s\n",
      "[CV] END .....................................n_neighbors=23; total time=   0.9s\n",
      "[CV] END .....................................n_neighbors=24; total time=   0.9s\n",
      "[CV] END .....................................n_neighbors=24; total time=   0.9s\n",
      "[CV] END .....................................n_neighbors=24; total time=   0.9s\n",
      "[CV] END .....................................n_neighbors=24; total time=   0.9s\n",
      "[CV] END .....................................n_neighbors=24; total time=   0.9s\n",
      "[CV] END .....................................n_neighbors=25; total time=   0.9s\n",
      "[CV] END .....................................n_neighbors=25; total time=   0.9s\n",
      "[CV] END .....................................n_neighbors=25; total time=   0.9s\n",
      "[CV] END .....................................n_neighbors=25; total time=   0.9s\n",
      "[CV] END .....................................n_neighbors=25; total time=   0.9s\n",
      "[CV] END .....................................n_neighbors=26; total time=   0.9s\n",
      "[CV] END .....................................n_neighbors=26; total time=   0.9s\n",
      "[CV] END .....................................n_neighbors=26; total time=   0.9s\n",
      "[CV] END .....................................n_neighbors=26; total time=   0.9s\n",
      "[CV] END .....................................n_neighbors=26; total time=   0.9s\n",
      "[CV] END .....................................n_neighbors=27; total time=   1.0s\n",
      "[CV] END .....................................n_neighbors=27; total time=   1.0s\n",
      "[CV] END .....................................n_neighbors=27; total time=   0.9s\n",
      "[CV] END .....................................n_neighbors=27; total time=   0.9s\n",
      "[CV] END .....................................n_neighbors=27; total time=   0.9s\n",
      "[CV] END .....................................n_neighbors=28; total time=   0.9s\n",
      "[CV] END .....................................n_neighbors=28; total time=   0.9s\n",
      "[CV] END .....................................n_neighbors=28; total time=   0.9s\n",
      "[CV] END .....................................n_neighbors=28; total time=   0.9s\n",
      "[CV] END .....................................n_neighbors=28; total time=   0.9s\n",
      "[CV] END .....................................n_neighbors=29; total time=   0.9s\n",
      "[CV] END .....................................n_neighbors=29; total time=   0.9s\n",
      "[CV] END .....................................n_neighbors=29; total time=   0.9s\n",
      "[CV] END .....................................n_neighbors=29; total time=   0.9s\n",
      "[CV] END .....................................n_neighbors=29; total time=   0.9s\n",
      "[CV] END .....................................n_neighbors=30; total time=   1.0s\n",
      "[CV] END .....................................n_neighbors=30; total time=   0.9s\n",
      "[CV] END .....................................n_neighbors=30; total time=   0.9s\n",
      "[CV] END .....................................n_neighbors=30; total time=   0.9s\n",
      "[CV] END .....................................n_neighbors=30; total time=   1.0s\n",
      "[CV] END .....................................n_neighbors=31; total time=   1.0s\n",
      "[CV] END .....................................n_neighbors=31; total time=   0.9s\n",
      "[CV] END .....................................n_neighbors=31; total time=   1.0s\n",
      "[CV] END .....................................n_neighbors=31; total time=   0.9s\n",
      "[CV] END .....................................n_neighbors=31; total time=   1.0s\n",
      "[CV] END .....................................n_neighbors=32; total time=   1.0s\n",
      "[CV] END .....................................n_neighbors=32; total time=   1.0s\n",
      "[CV] END .....................................n_neighbors=32; total time=   0.9s\n",
      "[CV] END .....................................n_neighbors=32; total time=   0.9s\n",
      "[CV] END .....................................n_neighbors=32; total time=   1.0s\n",
      "[CV] END .....................................n_neighbors=33; total time=   1.0s\n",
      "[CV] END .....................................n_neighbors=33; total time=   1.0s\n",
      "[CV] END .....................................n_neighbors=33; total time=   1.0s\n",
      "[CV] END .....................................n_neighbors=33; total time=   1.0s\n",
      "[CV] END .....................................n_neighbors=33; total time=   1.0s\n",
      "[CV] END .....................................n_neighbors=34; total time=   1.0s\n",
      "[CV] END .....................................n_neighbors=34; total time=   1.0s\n",
      "[CV] END .....................................n_neighbors=34; total time=   1.0s\n",
      "[CV] END .....................................n_neighbors=34; total time=   1.0s\n",
      "[CV] END .....................................n_neighbors=34; total time=   1.0s\n",
      "[CV] END .....................................n_neighbors=35; total time=   1.0s\n",
      "[CV] END .....................................n_neighbors=35; total time=   1.0s\n",
      "[CV] END .....................................n_neighbors=35; total time=   1.0s\n",
      "[CV] END .....................................n_neighbors=35; total time=   1.0s\n",
      "[CV] END .....................................n_neighbors=35; total time=   1.0s\n",
      "[CV] END .....................................n_neighbors=36; total time=   1.0s\n",
      "[CV] END .....................................n_neighbors=36; total time=   1.0s\n",
      "[CV] END .....................................n_neighbors=36; total time=   1.0s\n",
      "[CV] END .....................................n_neighbors=36; total time=   1.0s\n",
      "[CV] END .....................................n_neighbors=36; total time=   1.0s\n",
      "[CV] END .....................................n_neighbors=37; total time=   1.0s\n",
      "[CV] END .....................................n_neighbors=37; total time=   1.0s\n",
      "[CV] END .....................................n_neighbors=37; total time=   1.0s\n",
      "[CV] END .....................................n_neighbors=37; total time=   1.0s\n",
      "[CV] END .....................................n_neighbors=37; total time=   1.0s\n",
      "[CV] END .....................................n_neighbors=38; total time=   1.0s\n",
      "[CV] END .....................................n_neighbors=38; total time=   1.0s\n",
      "[CV] END .....................................n_neighbors=38; total time=   1.0s\n",
      "[CV] END .....................................n_neighbors=38; total time=   1.0s\n",
      "[CV] END .....................................n_neighbors=38; total time=   1.0s\n",
      "[CV] END .....................................n_neighbors=39; total time=   1.0s\n",
      "[CV] END .....................................n_neighbors=39; total time=   1.0s\n",
      "[CV] END .....................................n_neighbors=39; total time=   1.0s\n",
      "[CV] END .....................................n_neighbors=39; total time=   1.0s\n",
      "[CV] END .....................................n_neighbors=39; total time=   1.1s\n"
     ]
    },
    {
     "data": {
      "text/html": [
       "<style>#sk-container-id-1 {color: black;background-color: white;}#sk-container-id-1 pre{padding: 0;}#sk-container-id-1 div.sk-toggleable {background-color: white;}#sk-container-id-1 label.sk-toggleable__label {cursor: pointer;display: block;width: 100%;margin-bottom: 0;padding: 0.3em;box-sizing: border-box;text-align: center;}#sk-container-id-1 label.sk-toggleable__label-arrow:before {content: \"▸\";float: left;margin-right: 0.25em;color: #696969;}#sk-container-id-1 label.sk-toggleable__label-arrow:hover:before {color: black;}#sk-container-id-1 div.sk-estimator:hover label.sk-toggleable__label-arrow:before {color: black;}#sk-container-id-1 div.sk-toggleable__content {max-height: 0;max-width: 0;overflow: hidden;text-align: left;background-color: #f0f8ff;}#sk-container-id-1 div.sk-toggleable__content pre {margin: 0.2em;color: black;border-radius: 0.25em;background-color: #f0f8ff;}#sk-container-id-1 input.sk-toggleable__control:checked~div.sk-toggleable__content {max-height: 200px;max-width: 100%;overflow: auto;}#sk-container-id-1 input.sk-toggleable__control:checked~label.sk-toggleable__label-arrow:before {content: \"▾\";}#sk-container-id-1 div.sk-estimator input.sk-toggleable__control:checked~label.sk-toggleable__label {background-color: #d4ebff;}#sk-container-id-1 div.sk-label input.sk-toggleable__control:checked~label.sk-toggleable__label {background-color: #d4ebff;}#sk-container-id-1 input.sk-hidden--visually {border: 0;clip: rect(1px 1px 1px 1px);clip: rect(1px, 1px, 1px, 1px);height: 1px;margin: -1px;overflow: hidden;padding: 0;position: absolute;width: 1px;}#sk-container-id-1 div.sk-estimator {font-family: monospace;background-color: #f0f8ff;border: 1px dotted black;border-radius: 0.25em;box-sizing: border-box;margin-bottom: 0.5em;}#sk-container-id-1 div.sk-estimator:hover {background-color: #d4ebff;}#sk-container-id-1 div.sk-parallel-item::after {content: \"\";width: 100%;border-bottom: 1px solid gray;flex-grow: 1;}#sk-container-id-1 div.sk-label:hover label.sk-toggleable__label {background-color: #d4ebff;}#sk-container-id-1 div.sk-serial::before {content: \"\";position: absolute;border-left: 1px solid gray;box-sizing: border-box;top: 0;bottom: 0;left: 50%;z-index: 0;}#sk-container-id-1 div.sk-serial {display: flex;flex-direction: column;align-items: center;background-color: white;padding-right: 0.2em;padding-left: 0.2em;position: relative;}#sk-container-id-1 div.sk-item {position: relative;z-index: 1;}#sk-container-id-1 div.sk-parallel {display: flex;align-items: stretch;justify-content: center;background-color: white;position: relative;}#sk-container-id-1 div.sk-item::before, #sk-container-id-1 div.sk-parallel-item::before {content: \"\";position: absolute;border-left: 1px solid gray;box-sizing: border-box;top: 0;bottom: 0;left: 50%;z-index: -1;}#sk-container-id-1 div.sk-parallel-item {display: flex;flex-direction: column;z-index: 1;position: relative;background-color: white;}#sk-container-id-1 div.sk-parallel-item:first-child::after {align-self: flex-end;width: 50%;}#sk-container-id-1 div.sk-parallel-item:last-child::after {align-self: flex-start;width: 50%;}#sk-container-id-1 div.sk-parallel-item:only-child::after {width: 0;}#sk-container-id-1 div.sk-dashed-wrapped {border: 1px dashed gray;margin: 0 0.4em 0.5em 0.4em;box-sizing: border-box;padding-bottom: 0.4em;background-color: white;}#sk-container-id-1 div.sk-label label {font-family: monospace;font-weight: bold;display: inline-block;line-height: 1.2em;}#sk-container-id-1 div.sk-label-container {text-align: center;}#sk-container-id-1 div.sk-container {/* jupyter's `normalize.less` sets `[hidden] { display: none; }` but bootstrap.min.css set `[hidden] { display: none !important; }` so we also need the `!important` here to be able to override the default hidden behavior on the sphinx rendered scikit-learn.org. See: https://github.com/scikit-learn/scikit-learn/issues/21755 */display: inline-block !important;position: relative;}#sk-container-id-1 div.sk-text-repr-fallback {display: none;}</style><div id=\"sk-container-id-1\" class=\"sk-top-container\"><div class=\"sk-text-repr-fallback\"><pre>GridSearchCV(estimator=KNeighborsRegressor(),\n",
       "             param_grid={&#x27;n_neighbors&#x27;: array([ 1,  2,  3,  4,  5,  6,  7,  8,  9, 10, 11, 12, 13, 14, 15, 16, 17,\n",
       "       18, 19, 20, 21, 22, 23, 24, 25, 26, 27, 28, 29, 30, 31, 32, 33, 34,\n",
       "       35, 36, 37, 38, 39])},\n",
       "             verbose=2)</pre><b>In a Jupyter environment, please rerun this cell to show the HTML representation or trust the notebook. <br />On GitHub, the HTML representation is unable to render, please try loading this page with nbviewer.org.</b></div><div class=\"sk-container\" hidden><div class=\"sk-item sk-dashed-wrapped\"><div class=\"sk-label-container\"><div class=\"sk-label sk-toggleable\"><input class=\"sk-toggleable__control sk-hidden--visually\" id=\"sk-estimator-id-1\" type=\"checkbox\" ><label for=\"sk-estimator-id-1\" class=\"sk-toggleable__label sk-toggleable__label-arrow\">GridSearchCV</label><div class=\"sk-toggleable__content\"><pre>GridSearchCV(estimator=KNeighborsRegressor(),\n",
       "             param_grid={&#x27;n_neighbors&#x27;: array([ 1,  2,  3,  4,  5,  6,  7,  8,  9, 10, 11, 12, 13, 14, 15, 16, 17,\n",
       "       18, 19, 20, 21, 22, 23, 24, 25, 26, 27, 28, 29, 30, 31, 32, 33, 34,\n",
       "       35, 36, 37, 38, 39])},\n",
       "             verbose=2)</pre></div></div></div><div class=\"sk-parallel\"><div class=\"sk-parallel-item\"><div class=\"sk-item\"><div class=\"sk-label-container\"><div class=\"sk-label sk-toggleable\"><input class=\"sk-toggleable__control sk-hidden--visually\" id=\"sk-estimator-id-2\" type=\"checkbox\" ><label for=\"sk-estimator-id-2\" class=\"sk-toggleable__label sk-toggleable__label-arrow\">estimator: KNeighborsRegressor</label><div class=\"sk-toggleable__content\"><pre>KNeighborsRegressor()</pre></div></div></div><div class=\"sk-serial\"><div class=\"sk-item\"><div class=\"sk-estimator sk-toggleable\"><input class=\"sk-toggleable__control sk-hidden--visually\" id=\"sk-estimator-id-3\" type=\"checkbox\" ><label for=\"sk-estimator-id-3\" class=\"sk-toggleable__label sk-toggleable__label-arrow\">KNeighborsRegressor</label><div class=\"sk-toggleable__content\"><pre>KNeighborsRegressor()</pre></div></div></div></div></div></div></div></div></div></div>"
      ],
      "text/plain": [
       "GridSearchCV(estimator=KNeighborsRegressor(),\n",
       "             param_grid={'n_neighbors': array([ 1,  2,  3,  4,  5,  6,  7,  8,  9, 10, 11, 12, 13, 14, 15, 16, 17,\n",
       "       18, 19, 20, 21, 22, 23, 24, 25, 26, 27, 28, 29, 30, 31, 32, 33, 34,\n",
       "       35, 36, 37, 38, 39])},\n",
       "             verbose=2)"
      ]
     },
     "execution_count": 21,
     "metadata": {},
     "output_type": "execute_result"
    }
   ],
   "source": [
    "grid_model.fit(X_train,y_train)"
   ]
  },
  {
   "cell_type": "code",
   "execution_count": 22,
   "id": "7b91fc40",
   "metadata": {
    "execution": {
     "iopub.execute_input": "2023-06-12T17:46:16.761081Z",
     "iopub.status.busy": "2023-06-12T17:46:16.760671Z",
     "iopub.status.idle": "2023-06-12T17:46:19.445973Z",
     "shell.execute_reply": "2023-06-12T17:46:19.444768Z"
    },
    "papermill": {
     "duration": 2.717879,
     "end_time": "2023-06-12T17:46:19.448740",
     "exception": false,
     "start_time": "2023-06-12T17:46:16.730861",
     "status": "completed"
    },
    "tags": []
   },
   "outputs": [],
   "source": [
    "y_pred = grid_model.predict(X_test)"
   ]
  },
  {
   "cell_type": "code",
   "execution_count": 23,
   "id": "da7a2c83",
   "metadata": {
    "execution": {
     "iopub.execute_input": "2023-06-12T17:46:19.510135Z",
     "iopub.status.busy": "2023-06-12T17:46:19.509719Z",
     "iopub.status.idle": "2023-06-12T17:46:19.516116Z",
     "shell.execute_reply": "2023-06-12T17:46:19.515047Z"
    },
    "papermill": {
     "duration": 0.039452,
     "end_time": "2023-06-12T17:46:19.518397",
     "exception": false,
     "start_time": "2023-06-12T17:46:19.478945",
     "status": "completed"
    },
    "tags": []
   },
   "outputs": [
    {
     "data": {
      "text/plain": [
       "{'n_neighbors': 39}"
      ]
     },
     "execution_count": 23,
     "metadata": {},
     "output_type": "execute_result"
    }
   ],
   "source": [
    "grid_model.best_params_"
   ]
  },
  {
   "cell_type": "code",
   "execution_count": 24,
   "id": "e112edc7",
   "metadata": {
    "execution": {
     "iopub.execute_input": "2023-06-12T17:46:19.576931Z",
     "iopub.status.busy": "2023-06-12T17:46:19.576535Z",
     "iopub.status.idle": "2023-06-12T17:46:19.581346Z",
     "shell.execute_reply": "2023-06-12T17:46:19.580198Z"
    },
    "papermill": {
     "duration": 0.037139,
     "end_time": "2023-06-12T17:46:19.583650",
     "exception": false,
     "start_time": "2023-06-12T17:46:19.546511",
     "status": "completed"
    },
    "tags": []
   },
   "outputs": [],
   "source": [
    "from sklearn.metrics import mean_absolute_error , mean_squared_error"
   ]
  },
  {
   "cell_type": "code",
   "execution_count": 25,
   "id": "5cf58e9a",
   "metadata": {
    "execution": {
     "iopub.execute_input": "2023-06-12T17:46:19.644638Z",
     "iopub.status.busy": "2023-06-12T17:46:19.644269Z",
     "iopub.status.idle": "2023-06-12T17:46:19.652258Z",
     "shell.execute_reply": "2023-06-12T17:46:19.651337Z"
    },
    "papermill": {
     "duration": 0.041914,
     "end_time": "2023-06-12T17:46:19.654511",
     "exception": false,
     "start_time": "2023-06-12T17:46:19.612597",
     "status": "completed"
    },
    "tags": []
   },
   "outputs": [
    {
     "data": {
      "text/plain": [
       "1.4351639957483555"
      ]
     },
     "execution_count": 25,
     "metadata": {},
     "output_type": "execute_result"
    }
   ],
   "source": [
    "mean_absolute_error(y_test , y_pred)"
   ]
  },
  {
   "cell_type": "code",
   "execution_count": 26,
   "id": "4477cb86",
   "metadata": {
    "execution": {
     "iopub.execute_input": "2023-06-12T17:46:19.713707Z",
     "iopub.status.busy": "2023-06-12T17:46:19.713318Z",
     "iopub.status.idle": "2023-06-12T17:46:19.721787Z",
     "shell.execute_reply": "2023-06-12T17:46:19.720694Z"
    },
    "papermill": {
     "duration": 0.041181,
     "end_time": "2023-06-12T17:46:19.724220",
     "exception": false,
     "start_time": "2023-06-12T17:46:19.683039",
     "status": "completed"
    },
    "tags": []
   },
   "outputs": [
    {
     "data": {
      "text/plain": [
       "2.0947780395467226"
      ]
     },
     "execution_count": 26,
     "metadata": {},
     "output_type": "execute_result"
    }
   ],
   "source": [
    "np.sqrt(mean_squared_error(y_pred,y_test))"
   ]
  },
  {
   "cell_type": "code",
   "execution_count": 27,
   "id": "619c4ac5",
   "metadata": {
    "execution": {
     "iopub.execute_input": "2023-06-12T17:46:19.783967Z",
     "iopub.status.busy": "2023-06-12T17:46:19.783342Z",
     "iopub.status.idle": "2023-06-12T17:46:19.899318Z",
     "shell.execute_reply": "2023-06-12T17:46:19.898215Z"
    },
    "papermill": {
     "duration": 0.14892,
     "end_time": "2023-06-12T17:46:19.901935",
     "exception": false,
     "start_time": "2023-06-12T17:46:19.753015",
     "status": "completed"
    },
    "tags": []
   },
   "outputs": [],
   "source": [
    "df1 = pd.read_csv(r'/kaggle/input/playground-series-s3e16/test.csv')"
   ]
  },
  {
   "cell_type": "code",
   "execution_count": 28,
   "id": "ace82af4",
   "metadata": {
    "execution": {
     "iopub.execute_input": "2023-06-12T17:46:19.961259Z",
     "iopub.status.busy": "2023-06-12T17:46:19.960900Z",
     "iopub.status.idle": "2023-06-12T17:46:19.969544Z",
     "shell.execute_reply": "2023-06-12T17:46:19.968326Z"
    },
    "papermill": {
     "duration": 0.04079,
     "end_time": "2023-06-12T17:46:19.971681",
     "exception": false,
     "start_time": "2023-06-12T17:46:19.930891",
     "status": "completed"
    },
    "tags": []
   },
   "outputs": [],
   "source": [
    "df1 = df1.drop('id' , axis = 1)"
   ]
  },
  {
   "cell_type": "code",
   "execution_count": 29,
   "id": "27b983ec",
   "metadata": {
    "execution": {
     "iopub.execute_input": "2023-06-12T17:46:20.030584Z",
     "iopub.status.busy": "2023-06-12T17:46:20.030175Z",
     "iopub.status.idle": "2023-06-12T17:46:20.044506Z",
     "shell.execute_reply": "2023-06-12T17:46:20.043429Z"
    },
    "papermill": {
     "duration": 0.046869,
     "end_time": "2023-06-12T17:46:20.046960",
     "exception": false,
     "start_time": "2023-06-12T17:46:20.000091",
     "status": "completed"
    },
    "tags": []
   },
   "outputs": [],
   "source": [
    "df1 = pd.get_dummies(df1,drop_first = True)"
   ]
  },
  {
   "cell_type": "code",
   "execution_count": 30,
   "id": "0d184bb2",
   "metadata": {
    "execution": {
     "iopub.execute_input": "2023-06-12T17:46:20.106126Z",
     "iopub.status.busy": "2023-06-12T17:46:20.105706Z",
     "iopub.status.idle": "2023-06-12T17:46:20.121942Z",
     "shell.execute_reply": "2023-06-12T17:46:20.121029Z"
    },
    "papermill": {
     "duration": 0.048442,
     "end_time": "2023-06-12T17:46:20.124069",
     "exception": false,
     "start_time": "2023-06-12T17:46:20.075627",
     "status": "completed"
    },
    "tags": []
   },
   "outputs": [
    {
     "data": {
      "text/html": [
       "<div>\n",
       "<style scoped>\n",
       "    .dataframe tbody tr th:only-of-type {\n",
       "        vertical-align: middle;\n",
       "    }\n",
       "\n",
       "    .dataframe tbody tr th {\n",
       "        vertical-align: top;\n",
       "    }\n",
       "\n",
       "    .dataframe thead th {\n",
       "        text-align: right;\n",
       "    }\n",
       "</style>\n",
       "<table border=\"1\" class=\"dataframe\">\n",
       "  <thead>\n",
       "    <tr style=\"text-align: right;\">\n",
       "      <th></th>\n",
       "      <th>Length</th>\n",
       "      <th>Diameter</th>\n",
       "      <th>Height</th>\n",
       "      <th>Weight</th>\n",
       "      <th>Shucked Weight</th>\n",
       "      <th>Viscera Weight</th>\n",
       "      <th>Shell Weight</th>\n",
       "      <th>Sex_I</th>\n",
       "      <th>Sex_M</th>\n",
       "    </tr>\n",
       "  </thead>\n",
       "  <tbody>\n",
       "    <tr>\n",
       "      <th>0</th>\n",
       "      <td>1.0500</td>\n",
       "      <td>0.7625</td>\n",
       "      <td>0.2750</td>\n",
       "      <td>8.618248</td>\n",
       "      <td>3.657085</td>\n",
       "      <td>1.729319</td>\n",
       "      <td>2.721552</td>\n",
       "      <td>1</td>\n",
       "      <td>0</td>\n",
       "    </tr>\n",
       "    <tr>\n",
       "      <th>1</th>\n",
       "      <td>1.1625</td>\n",
       "      <td>0.8875</td>\n",
       "      <td>0.2750</td>\n",
       "      <td>15.507176</td>\n",
       "      <td>7.030676</td>\n",
       "      <td>3.246018</td>\n",
       "      <td>3.968930</td>\n",
       "      <td>1</td>\n",
       "      <td>0</td>\n",
       "    </tr>\n",
       "    <tr>\n",
       "      <th>2</th>\n",
       "      <td>1.2875</td>\n",
       "      <td>0.9875</td>\n",
       "      <td>0.3250</td>\n",
       "      <td>14.571643</td>\n",
       "      <td>5.556502</td>\n",
       "      <td>3.883882</td>\n",
       "      <td>4.819415</td>\n",
       "      <td>0</td>\n",
       "      <td>0</td>\n",
       "    </tr>\n",
       "    <tr>\n",
       "      <th>3</th>\n",
       "      <td>1.5500</td>\n",
       "      <td>0.9875</td>\n",
       "      <td>0.3875</td>\n",
       "      <td>28.377849</td>\n",
       "      <td>13.380964</td>\n",
       "      <td>6.548735</td>\n",
       "      <td>7.030676</td>\n",
       "      <td>0</td>\n",
       "      <td>0</td>\n",
       "    </tr>\n",
       "    <tr>\n",
       "      <th>4</th>\n",
       "      <td>1.1125</td>\n",
       "      <td>0.8500</td>\n",
       "      <td>0.2625</td>\n",
       "      <td>11.765042</td>\n",
       "      <td>5.528153</td>\n",
       "      <td>2.466407</td>\n",
       "      <td>3.331066</td>\n",
       "      <td>1</td>\n",
       "      <td>0</td>\n",
       "    </tr>\n",
       "  </tbody>\n",
       "</table>\n",
       "</div>"
      ],
      "text/plain": [
       "   Length  Diameter  Height     Weight  Shucked Weight  Viscera Weight  \\\n",
       "0  1.0500    0.7625  0.2750   8.618248        3.657085        1.729319   \n",
       "1  1.1625    0.8875  0.2750  15.507176        7.030676        3.246018   \n",
       "2  1.2875    0.9875  0.3250  14.571643        5.556502        3.883882   \n",
       "3  1.5500    0.9875  0.3875  28.377849       13.380964        6.548735   \n",
       "4  1.1125    0.8500  0.2625  11.765042        5.528153        2.466407   \n",
       "\n",
       "   Shell Weight  Sex_I  Sex_M  \n",
       "0      2.721552      1      0  \n",
       "1      3.968930      1      0  \n",
       "2      4.819415      0      0  \n",
       "3      7.030676      0      0  \n",
       "4      3.331066      1      0  "
      ]
     },
     "execution_count": 30,
     "metadata": {},
     "output_type": "execute_result"
    }
   ],
   "source": [
    "df1.head()"
   ]
  },
  {
   "cell_type": "code",
   "execution_count": 31,
   "id": "7b3c7427",
   "metadata": {
    "execution": {
     "iopub.execute_input": "2023-06-12T17:46:20.183133Z",
     "iopub.status.busy": "2023-06-12T17:46:20.182735Z",
     "iopub.status.idle": "2023-06-12T17:46:23.538262Z",
     "shell.execute_reply": "2023-06-12T17:46:23.537061Z"
    },
    "papermill": {
     "duration": 3.388432,
     "end_time": "2023-06-12T17:46:23.541263",
     "exception": false,
     "start_time": "2023-06-12T17:46:20.152831",
     "status": "completed"
    },
    "tags": []
   },
   "outputs": [
    {
     "name": "stderr",
     "output_type": "stream",
     "text": [
      "/opt/conda/lib/python3.10/site-packages/sklearn/base.py:432: UserWarning: X has feature names, but KNeighborsRegressor was fitted without feature names\n",
      "  warnings.warn(\n"
     ]
    }
   ],
   "source": [
    "final_submission = pd.DataFrame(grid_model.predict(df1))"
   ]
  },
  {
   "cell_type": "code",
   "execution_count": 32,
   "id": "37d4511e",
   "metadata": {
    "execution": {
     "iopub.execute_input": "2023-06-12T17:46:23.601067Z",
     "iopub.status.busy": "2023-06-12T17:46:23.600639Z",
     "iopub.status.idle": "2023-06-12T17:46:23.612875Z",
     "shell.execute_reply": "2023-06-12T17:46:23.611687Z"
    },
    "papermill": {
     "duration": 0.044816,
     "end_time": "2023-06-12T17:46:23.615158",
     "exception": false,
     "start_time": "2023-06-12T17:46:23.570342",
     "status": "completed"
    },
    "tags": []
   },
   "outputs": [
    {
     "data": {
      "text/html": [
       "<div>\n",
       "<style scoped>\n",
       "    .dataframe tbody tr th:only-of-type {\n",
       "        vertical-align: middle;\n",
       "    }\n",
       "\n",
       "    .dataframe tbody tr th {\n",
       "        vertical-align: top;\n",
       "    }\n",
       "\n",
       "    .dataframe thead th {\n",
       "        text-align: right;\n",
       "    }\n",
       "</style>\n",
       "<table border=\"1\" class=\"dataframe\">\n",
       "  <thead>\n",
       "    <tr style=\"text-align: right;\">\n",
       "      <th></th>\n",
       "      <th>0</th>\n",
       "    </tr>\n",
       "  </thead>\n",
       "  <tbody>\n",
       "    <tr>\n",
       "      <th>0</th>\n",
       "      <td>12.333333</td>\n",
       "    </tr>\n",
       "    <tr>\n",
       "      <th>1</th>\n",
       "      <td>12.153846</td>\n",
       "    </tr>\n",
       "    <tr>\n",
       "      <th>2</th>\n",
       "      <td>12.153846</td>\n",
       "    </tr>\n",
       "    <tr>\n",
       "      <th>3</th>\n",
       "      <td>11.974359</td>\n",
       "    </tr>\n",
       "    <tr>\n",
       "      <th>4</th>\n",
       "      <td>12.153846</td>\n",
       "    </tr>\n",
       "    <tr>\n",
       "      <th>...</th>\n",
       "      <td>...</td>\n",
       "    </tr>\n",
       "    <tr>\n",
       "      <th>49363</th>\n",
       "      <td>12.051282</td>\n",
       "    </tr>\n",
       "    <tr>\n",
       "      <th>49364</th>\n",
       "      <td>12.282051</td>\n",
       "    </tr>\n",
       "    <tr>\n",
       "      <th>49365</th>\n",
       "      <td>12.051282</td>\n",
       "    </tr>\n",
       "    <tr>\n",
       "      <th>49366</th>\n",
       "      <td>12.153846</td>\n",
       "    </tr>\n",
       "    <tr>\n",
       "      <th>49367</th>\n",
       "      <td>11.974359</td>\n",
       "    </tr>\n",
       "  </tbody>\n",
       "</table>\n",
       "<p>49368 rows × 1 columns</p>\n",
       "</div>"
      ],
      "text/plain": [
       "               0\n",
       "0      12.333333\n",
       "1      12.153846\n",
       "2      12.153846\n",
       "3      11.974359\n",
       "4      12.153846\n",
       "...          ...\n",
       "49363  12.051282\n",
       "49364  12.282051\n",
       "49365  12.051282\n",
       "49366  12.153846\n",
       "49367  11.974359\n",
       "\n",
       "[49368 rows x 1 columns]"
      ]
     },
     "execution_count": 32,
     "metadata": {},
     "output_type": "execute_result"
    }
   ],
   "source": [
    "final_submission"
   ]
  },
  {
   "cell_type": "code",
   "execution_count": 33,
   "id": "b4b686da",
   "metadata": {
    "execution": {
     "iopub.execute_input": "2023-06-12T17:46:23.674635Z",
     "iopub.status.busy": "2023-06-12T17:46:23.674252Z",
     "iopub.status.idle": "2023-06-12T17:46:23.901425Z",
     "shell.execute_reply": "2023-06-12T17:46:23.900250Z"
    },
    "papermill": {
     "duration": 0.260499,
     "end_time": "2023-06-12T17:46:23.904638",
     "exception": false,
     "start_time": "2023-06-12T17:46:23.644139",
     "status": "completed"
    },
    "tags": []
   },
   "outputs": [],
   "source": [
    "final_submission.to_csv(r'/kaggle/working/final_submission.csv')"
   ]
  },
  {
   "cell_type": "code",
   "execution_count": null,
   "id": "832ad91d",
   "metadata": {
    "papermill": {
     "duration": 0.028812,
     "end_time": "2023-06-12T17:46:23.963716",
     "exception": false,
     "start_time": "2023-06-12T17:46:23.934904",
     "status": "completed"
    },
    "tags": []
   },
   "outputs": [],
   "source": []
  }
 ],
 "metadata": {
  "kernelspec": {
   "display_name": "Python 3",
   "language": "python",
   "name": "python3"
  },
  "language_info": {
   "codemirror_mode": {
    "name": "ipython",
    "version": 3
   },
   "file_extension": ".py",
   "mimetype": "text/x-python",
   "name": "python",
   "nbconvert_exporter": "python",
   "pygments_lexer": "ipython3",
   "version": "3.10.10"
  },
  "papermill": {
   "default_parameters": {},
   "duration": 181.068258,
   "end_time": "2023-06-12T17:46:25.016669",
   "environment_variables": {},
   "exception": null,
   "input_path": "__notebook__.ipynb",
   "output_path": "__notebook__.ipynb",
   "parameters": {},
   "start_time": "2023-06-12T17:43:23.948411",
   "version": "2.4.0"
  }
 },
 "nbformat": 4,
 "nbformat_minor": 5
}
